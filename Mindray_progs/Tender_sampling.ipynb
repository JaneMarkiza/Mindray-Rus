{
 "cells": [
  {
   "cell_type": "code",
   "execution_count": 2,
   "id": "e8c6d319-6b79-4cda-8886-52ca47ede5c2",
   "metadata": {},
   "outputs": [],
   "source": [
    "from openpyxl.utils.dataframe import dataframe_to_rows\n",
    "from openpyxl import load_workbook\n",
    "import pandas as pd"
   ]
  },
  {
   "cell_type": "code",
   "execution_count": 3,
   "id": "ea075d93-fc3d-47d7-bf61-dec01c71a212",
   "metadata": {},
   "outputs": [],
   "source": [
    "list = pd.read_excel('/Users/evgeniamarkizova/Python progs/Data/Customer list.xlsx')"
   ]
  },
  {
   "cell_type": "code",
   "execution_count": 4,
   "id": "5d7cf275-32b6-472d-bf11-7eb009ca03fd",
   "metadata": {},
   "outputs": [
    {
     "name": "stdout",
     "output_type": "stream",
     "text": [
      "<class 'pandas.core.frame.DataFrame'>\n",
      "RangeIndex: 14 entries, 0 to 13\n",
      "Data columns (total 1 columns):\n",
      " #   Column  Non-Null Count  Dtype\n",
      "---  ------  --------------  -----\n",
      " 0   ID      14 non-null     int64\n",
      "dtypes: int64(1)\n",
      "memory usage: 244.0 bytes\n"
     ]
    }
   ],
   "source": [
    "list.info()"
   ]
  },
  {
   "cell_type": "code",
   "execution_count": 5,
   "id": "8c6a5549-ad02-4dec-b2d9-9094966a5e78",
   "metadata": {},
   "outputs": [],
   "source": [
    "tender2023= pd.read_excel('/Users/evgeniamarkizova/Python progs/Data/2023 tenders.xlsx')\n",
    "tender2024= pd.read_excel('/Users/evgeniamarkizova/Python progs/Data/H1 2024 tenders_ver 2.xlsx')"
   ]
  },
  {
   "cell_type": "code",
   "execution_count": 7,
   "id": "9d91dde8-7964-4d66-a2ce-bcc45a3730eb",
   "metadata": {},
   "outputs": [],
   "source": [
    "list_of_values = list['ID'].tolist()"
   ]
  },
  {
   "cell_type": "code",
   "execution_count": 8,
   "id": "72099feb-b878-471c-b0a4-08feb48e3712",
   "metadata": {},
   "outputs": [],
   "source": [
    "list2023 = tender2023[tender2023['Заказчик | ИНН'].isin(list_of_values)]\n",
    "list2024 = tender2024[tender2024['Заказчик | ИНН'].isin(list_of_values)]"
   ]
  },
  {
   "cell_type": "code",
   "execution_count": 9,
   "id": "044579c0-4bea-482b-a3c2-e207492ad000",
   "metadata": {},
   "outputs": [],
   "source": [
    "list2023 =list2023[list2023['Manufactory']=='Snibe']\n",
    "list2024 =list2024[list2024['Manufactory']=='Snibe']"
   ]
  },
  {
   "cell_type": "code",
   "execution_count": 14,
   "id": "62dc7dc0-19de-43f5-989f-9a77dd155ef1",
   "metadata": {},
   "outputs": [],
   "source": [
    "frames = [list2023 , list2024]\n",
    "result = pd.concat(frames)"
   ]
  },
  {
   "cell_type": "code",
   "execution_count": 15,
   "id": "33dfa294-00a2-41e0-a569-b59c98157913",
   "metadata": {},
   "outputs": [],
   "source": [
    "result = result[['Контракт | Дата подписания','ГОД','месяц','Заказчик | ИНН','Заказчик | Краткое наименование','Region','Federal district','Закупка - Лот | Наименование','Продукты | Наименование','Продукты | Цена','Продукты | Количество','Продукты | Сумма','Контракт | Ссылка','Исполнитель | ИНН','Исполнитель | Наименование']]"
   ]
  },
  {
   "cell_type": "code",
   "execution_count": 16,
   "id": "a9686979-f488-4a53-8568-6cf21bfa4446",
   "metadata": {},
   "outputs": [],
   "source": [
    "result.to_excel('Tender_sampling.xlsx', index=False)"
   ]
  },
  {
   "cell_type": "code",
   "execution_count": null,
   "id": "942c02f9-a5ad-46c7-9bf0-f496ea57bc32",
   "metadata": {},
   "outputs": [],
   "source": []
  },
  {
   "cell_type": "code",
   "execution_count": null,
   "id": "4204c754-aa64-4466-81d5-1657e8074d10",
   "metadata": {},
   "outputs": [],
   "source": []
  },
  {
   "cell_type": "code",
   "execution_count": null,
   "id": "149ea4a2-3364-456f-b6bb-e07e5e2ee91c",
   "metadata": {},
   "outputs": [],
   "source": []
  }
 ],
 "metadata": {
  "kernelspec": {
   "display_name": "Python 3 (ipykernel)",
   "language": "python",
   "name": "python3"
  },
  "language_info": {
   "codemirror_mode": {
    "name": "ipython",
    "version": 3
   },
   "file_extension": ".py",
   "mimetype": "text/x-python",
   "name": "python",
   "nbconvert_exporter": "python",
   "pygments_lexer": "ipython3",
   "version": "3.12.4"
  }
 },
 "nbformat": 4,
 "nbformat_minor": 5
}
