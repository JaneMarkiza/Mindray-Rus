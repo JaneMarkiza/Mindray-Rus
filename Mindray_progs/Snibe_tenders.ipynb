{
 "cells": [
  {
   "cell_type": "code",
   "execution_count": 1,
   "id": "e8c6d319-6b79-4cda-8886-52ca47ede5c2",
   "metadata": {},
   "outputs": [],
   "source": [
    "import pandas as pd"
   ]
  },
  {
   "cell_type": "code",
   "execution_count": 2,
   "id": "8c6a5549-ad02-4dec-b2d9-9094966a5e78",
   "metadata": {},
   "outputs": [],
   "source": [
    "# Открываем файлы с тендерами\n",
    "tender2022= pd.read_excel('/Users/evgeniamarkizova/Python_progs/Data/2022 tenders.xlsx')\n",
    "tender2023= pd.read_excel('/Users/evgeniamarkizova/Python_progs/Data/2023 tenders.xlsx')\n",
    "tender2024= pd.read_excel('/Users/evgeniamarkizova/Python_progs/Data/H1 2024 tenders_ver 2.xlsx')"
   ]
  },
  {
   "cell_type": "code",
   "execution_count": 3,
   "id": "5c7b864e-fbd5-4579-afd0-d1c0b363bfea",
   "metadata": {},
   "outputs": [],
   "source": [
    "# Выделяем тендеры Snibe\n",
    "Snibe2022 = tender2022[tender2022['Manufactory']=='Snibe']\n",
    "Snibe2023 = tender2023[tender2023['Manufactory']=='Snibe']\n",
    "Snibe2024 = tender2024[tender2024['Manufactory']=='Snibe']"
   ]
  },
  {
   "cell_type": "code",
   "execution_count": 4,
   "id": "208db294-e25b-4694-936c-113770b059d3",
   "metadata": {},
   "outputs": [],
   "source": [
    "# ИНН клиентов Snibe по годам\n",
    "customer2022 = Snibe2022['Заказчик | ИНН'].unique()\n",
    "customer2023 = Snibe2023['Заказчик | ИНН'].unique()\n",
    "customer2024 = Snibe2024['Заказчик | ИНН'].unique()"
   ]
  },
  {
   "cell_type": "code",
   "execution_count": 5,
   "id": "548f6038-c950-477b-9fbb-d140d5c974ec",
   "metadata": {},
   "outputs": [],
   "source": [
    "# Клиенты, которые с 2022 года работают на Snibe\n",
    "list2022_2023 = list(filter(lambda it: it in customer2022, customer2023))\n",
    "list2022_2024 = list(filter(lambda it: it in customer2022, customer2024))"
   ]
  },
  {
   "cell_type": "code",
   "execution_count": 6,
   "id": "8c6bd4e2-4aaf-4394-afc1-04e061f82844",
   "metadata": {},
   "outputs": [
    {
     "data": {
      "text/plain": [
       "0"
      ]
     },
     "execution_count": 6,
     "metadata": {},
     "output_type": "execute_result"
    }
   ],
   "source": [
    "len(list2022_2023)"
   ]
  },
  {
   "cell_type": "code",
   "execution_count": 7,
   "id": "5f724cdf-6ca8-40bb-b72e-ac6300f21a37",
   "metadata": {},
   "outputs": [
    {
     "data": {
      "text/plain": [
       "0"
      ]
     },
     "execution_count": 7,
     "metadata": {},
     "output_type": "execute_result"
    }
   ],
   "source": [
    "len(list2022_2024)"
   ]
  },
  {
   "cell_type": "code",
   "execution_count": 8,
   "id": "5d5f7673-0a82-4f17-814f-dad553c77a09",
   "metadata": {},
   "outputs": [],
   "source": [
    "# Нет клиентов, которые бы использовали Snibe с 2022 года"
   ]
  },
  {
   "cell_type": "code",
   "execution_count": 9,
   "id": "a208c7d4-8b6d-4c3a-aeac-6259cc264616",
   "metadata": {},
   "outputs": [],
   "source": [
    "list2023_2024 = list(filter(lambda it: it in customer2023, customer2024))"
   ]
  },
  {
   "cell_type": "code",
   "execution_count": 10,
   "id": "1bf9710a-b93d-4d74-9c3e-3ea03747cbee",
   "metadata": {},
   "outputs": [
    {
     "data": {
      "text/plain": [
       "48"
      ]
     },
     "execution_count": 10,
     "metadata": {},
     "output_type": "execute_result"
    }
   ],
   "source": [
    "len(list2023_2024)"
   ]
  },
  {
   "cell_type": "code",
   "execution_count": 11,
   "id": "8ba779f7-45e0-412b-b0ea-ebcd8c6a5890",
   "metadata": {},
   "outputs": [],
   "source": [
    "# 48 клиентов использовали Snibe с 2023 года"
   ]
  },
  {
   "cell_type": "code",
   "execution_count": 12,
   "id": "2bf014c1-be59-4270-bd74-d8d7bc21d25a",
   "metadata": {},
   "outputs": [],
   "source": [
    "# Объединяем все тендеры Snibe с 2022 по 2024 года и выгрузка в файл Excel\n",
    "frames = [Snibe2022, Snibe2023, Snibe2024]\n",
    "Snibe_total = pd.concat(frames)"
   ]
  },
  {
   "cell_type": "code",
   "execution_count": 13,
   "id": "d6164eca-68b3-4d4e-b944-8cf4d50c83d2",
   "metadata": {},
   "outputs": [],
   "source": [
    "Snibe_total = Snibe_total[['Контракт | Дата подписания','Заказчик | ИНН','Заказчик | Краткое наименование','Region','Federal district','Закупка - Лот | Наименование','Продукты | Наименование','Продукты | Цена','Продукты | Количество','Продукты | Сумма','Контракт | Ссылка','Исполнитель | ИНН','Исполнитель | Наименование']]"
   ]
  },
  {
   "cell_type": "code",
   "execution_count": 27,
   "id": "593f704d-b5cb-4180-baa5-c6b690449256",
   "metadata": {},
   "outputs": [
    {
     "data": {
      "text/plain": [
       "157"
      ]
     },
     "execution_count": 27,
     "metadata": {},
     "output_type": "execute_result"
    }
   ],
   "source": [
    "len(Snibe_total['Заказчик | ИНН'].unique())"
   ]
  },
  {
   "cell_type": "code",
   "execution_count": 15,
   "id": "50bbf917-8103-43e4-9d1f-99780d80b959",
   "metadata": {},
   "outputs": [],
   "source": [
    "Snibe_total.to_excel('Snibe_total.xlsx', index=False)"
   ]
  },
  {
   "cell_type": "code",
   "execution_count": 16,
   "id": "f32e39d4-ff37-4ba1-b537-429073d1ff28",
   "metadata": {},
   "outputs": [],
   "source": [
    "# Объединяем  тендеры Snibe у клиентов, которые использовали Snibe с 2023 по 2024 года и выгрузка в файл Excel\n",
    "Snibe2023_2024_1 = Snibe2023[Snibe2023['Заказчик | ИНН'].isin(list2023_2024)]\n",
    "Snibe2023_2024_2 = Snibe2024[Snibe2024['Заказчик | ИНН'].isin(list2023_2024)]"
   ]
  },
  {
   "cell_type": "code",
   "execution_count": 17,
   "id": "31a09d2b-0c6d-4cc3-928a-55d69a9ffa25",
   "metadata": {},
   "outputs": [],
   "source": [
    "frames = [Snibe2023_2024_1, Snibe2023_2024_2]\n",
    "Snibe_2023_2024 = pd.concat(frames)"
   ]
  },
  {
   "cell_type": "code",
   "execution_count": 18,
   "id": "8b358df9-f46d-4763-82ac-a95a78d672a7",
   "metadata": {},
   "outputs": [],
   "source": [
    "Snibe_2023_2024= Snibe_2023_2024[['Контракт | Дата подписания','Заказчик | ИНН','Заказчик | Краткое наименование','Region','Federal district','Закупка - Лот | Наименование','Продукты | Наименование','Продукты | Цена','Продукты | Количество','Продукты | Сумма','Контракт | Ссылка','Исполнитель | ИНН','Исполнитель | Наименование']]"
   ]
  },
  {
   "cell_type": "code",
   "execution_count": 19,
   "id": "c38d34e4-0e83-4598-a8ac-a1d86904c043",
   "metadata": {},
   "outputs": [],
   "source": [
    "Snibe_2023_2024.to_excel('Snibe_2023_2024.xlsx', index=False)"
   ]
  },
  {
   "cell_type": "code",
   "execution_count": 20,
   "id": "7a3912e0-8e4a-4d3e-9750-f18d50597d9e",
   "metadata": {},
   "outputs": [],
   "source": [
    "# Выделяем клиентов, которые только начали использовать в 2024 году"
   ]
  },
  {
   "cell_type": "code",
   "execution_count": 21,
   "id": "5f25d9b6-a8e9-4dc0-b6c3-27f1a8108649",
   "metadata": {},
   "outputs": [],
   "source": [
    "list2024 = [e for e in customer2024 if e not in customer2023]"
   ]
  },
  {
   "cell_type": "code",
   "execution_count": 22,
   "id": "4a2352f3-b6ae-48ff-94a2-937be0473612",
   "metadata": {},
   "outputs": [
    {
     "data": {
      "text/plain": [
       "88"
      ]
     },
     "execution_count": 22,
     "metadata": {},
     "output_type": "execute_result"
    }
   ],
   "source": [
    "len(list2024)"
   ]
  },
  {
   "cell_type": "code",
   "execution_count": 23,
   "id": "9d91dde8-7964-4d66-a2ce-bcc45a3730eb",
   "metadata": {},
   "outputs": [],
   "source": [
    "Snibe2024_new = Snibe2024[Snibe2024['Заказчик | ИНН'].isin(list2024)]"
   ]
  },
  {
   "cell_type": "code",
   "execution_count": 24,
   "id": "72099feb-b878-471c-b0a4-08feb48e3712",
   "metadata": {},
   "outputs": [],
   "source": [
    "Snibe2024_new= Snibe2024_new[['Контракт | Дата подписания','Заказчик | ИНН','Заказчик | Краткое наименование','Region','Federal district','Закупка - Лот | Наименование','Продукты | Наименование','Продукты | Цена','Продукты | Количество','Продукты | Сумма','Контракт | Ссылка','Исполнитель | ИНН','Исполнитель | Наименование']]"
   ]
  },
  {
   "cell_type": "code",
   "execution_count": 25,
   "id": "044579c0-4bea-482b-a3c2-e207492ad000",
   "metadata": {},
   "outputs": [],
   "source": [
    "Snibe2024_new.to_excel('Snibe2024_new.xlsx', index=False)"
   ]
  },
  {
   "cell_type": "code",
   "execution_count": null,
   "id": "62dc7dc0-19de-43f5-989f-9a77dd155ef1",
   "metadata": {},
   "outputs": [],
   "source": []
  },
  {
   "cell_type": "code",
   "execution_count": null,
   "id": "33dfa294-00a2-41e0-a569-b59c98157913",
   "metadata": {},
   "outputs": [],
   "source": []
  },
  {
   "cell_type": "code",
   "execution_count": null,
   "id": "a9686979-f488-4a53-8568-6cf21bfa4446",
   "metadata": {},
   "outputs": [],
   "source": []
  },
  {
   "cell_type": "code",
   "execution_count": null,
   "id": "942c02f9-a5ad-46c7-9bf0-f496ea57bc32",
   "metadata": {},
   "outputs": [],
   "source": []
  },
  {
   "cell_type": "code",
   "execution_count": null,
   "id": "4204c754-aa64-4466-81d5-1657e8074d10",
   "metadata": {},
   "outputs": [],
   "source": []
  },
  {
   "cell_type": "code",
   "execution_count": null,
   "id": "149ea4a2-3364-456f-b6bb-e07e5e2ee91c",
   "metadata": {},
   "outputs": [],
   "source": []
  }
 ],
 "metadata": {
  "kernelspec": {
   "display_name": "Python 3 (ipykernel)",
   "language": "python",
   "name": "python3"
  },
  "language_info": {
   "codemirror_mode": {
    "name": "ipython",
    "version": 3
   },
   "file_extension": ".py",
   "mimetype": "text/x-python",
   "name": "python",
   "nbconvert_exporter": "python",
   "pygments_lexer": "ipython3",
   "version": "3.12.4"
  }
 },
 "nbformat": 4,
 "nbformat_minor": 5
}
