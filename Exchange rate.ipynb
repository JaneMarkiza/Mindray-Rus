{
 "cells": [
  {
   "cell_type": "code",
   "execution_count": 22,
   "id": "745e8673-536e-4f1c-af29-8bd4e95e85c3",
   "metadata": {},
   "outputs": [],
   "source": [
    "import pandas as pd\n",
    "\n",
    "url = 'https://www.cbr.ru/scripts/XML_dynamic.asp?date_req1=01/01/2024&date_req2=31/10/2024&VAL_NM_RQ=R01235'\n",
    "exchange_rate = pd.read_xml(url)"
   ]
  },
  {
   "cell_type": "code",
   "execution_count": 23,
   "id": "751188b4-21b6-469a-b3cc-754f83e7ac54",
   "metadata": {},
   "outputs": [],
   "source": [
    "from openpyxl.utils.dataframe import dataframe_to_rows\n",
    "from openpyxl import load_workbook\n",
    "\n",
    "wb = Workbook()\n",
    "ws = wb.active"
   ]
  },
  {
   "cell_type": "code",
   "execution_count": 26,
   "id": "3eff1757-4cf7-4998-a37a-db09403e6ccb",
   "metadata": {},
   "outputs": [],
   "source": [
    "ws['A1']='Date'\n",
    "ws['A2'] = 'Exchange rate'"
   ]
  },
  {
   "cell_type": "code",
   "execution_count": 28,
   "id": "b1bfa4f7-25dc-4c1e-a027-c84e2630ecc7",
   "metadata": {},
   "outputs": [],
   "source": [
    "qty=len(exchange_rate)"
   ]
  },
  {
   "cell_type": "code",
   "execution_count": 34,
   "id": "5ea1d0ac-9992-4f05-bff1-ccd2c223a086",
   "metadata": {},
   "outputs": [],
   "source": [
    "rows = dataframe_to_rows(exchange_rate, index=False)\n",
    "for r_idx, row in enumerate(rows, 1):\n",
    "    for c_idx, value in enumerate(row, 1):\n",
    "        ws.cell(row=r_idx, column=c_idx, value=value)"
   ]
  },
  {
   "cell_type": "code",
   "execution_count": 36,
   "id": "e25459b1-a171-41e1-9f8e-4d475d2d82e2",
   "metadata": {},
   "outputs": [],
   "source": [
    "wb.save('/Users/evgeniamarkizova/Python progs/exchange_rate.xlsx')"
   ]
  },
  {
   "cell_type": "code",
   "execution_count": null,
   "id": "867b0788-c45b-4b66-8c36-d785e61d06bf",
   "metadata": {},
   "outputs": [],
   "source": []
  }
 ],
 "metadata": {
  "kernelspec": {
   "display_name": "Python 3 (ipykernel)",
   "language": "python",
   "name": "python3"
  },
  "language_info": {
   "codemirror_mode": {
    "name": "ipython",
    "version": 3
   },
   "file_extension": ".py",
   "mimetype": "text/x-python",
   "name": "python",
   "nbconvert_exporter": "python",
   "pygments_lexer": "ipython3",
   "version": "3.12.4"
  }
 },
 "nbformat": 4,
 "nbformat_minor": 5
}
